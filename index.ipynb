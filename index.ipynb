{
 "cells": [
  {
   "cell_type": "markdown",
   "metadata": {
    "slideshow": {
     "slide_type": "slide"
    }
   },
   "source": [
    "#ROOT pipeline demonstration"
   ]
  },
  {
   "cell_type": "code",
   "execution_count": 1,
   "metadata": {
    "slideshow": {
     "slide_type": "fragment"
    }
   },
   "outputs": [
    {
     "data": {
      "text/plain": [
       "'1.6.0'"
      ]
     },
     "execution_count": 1,
     "metadata": {},
     "output_type": "execute_result"
    }
   ],
   "source": [
    "import tensorflow as tf\n",
    "tf.VERSION"
   ]
  },
  {
   "cell_type": "code",
   "execution_count": 2,
   "metadata": {
    "slideshow": {
     "slide_type": "slide"
    }
   },
   "outputs": [
    {
     "name": "stdout",
     "output_type": "stream",
     "text": [
      "-- The C compiler identification is GNU 7.5.0\n",
      "-- The CXX compiler identification is GNU 7.5.0\n",
      "-- Check for working C compiler: /media/matthias/HDD/matthias/Projects/pyhep20_tfpipeline/env/miniconda/envs/tf-environment/bin/x86_64-conda_cos6-linux-gnu-cc\n",
      "-- Check for working C compiler: /media/matthias/HDD/matthias/Projects/pyhep20_tfpipeline/env/miniconda/envs/tf-environment/bin/x86_64-conda_cos6-linux-gnu-cc -- works\n",
      "-- Detecting C compiler ABI info\n",
      "-- Detecting C compiler ABI info - done\n",
      "-- Detecting C compile features\n",
      "-- Detecting C compile features - done\n",
      "-- Check for working CXX compiler: /media/matthias/HDD/matthias/Projects/pyhep20_tfpipeline/env/miniconda/envs/tf-environment/bin/x86_64-conda_cos6-linux-gnu-c++\n",
      "-- Check for working CXX compiler: /media/matthias/HDD/matthias/Projects/pyhep20_tfpipeline/env/miniconda/envs/tf-environment/bin/x86_64-conda_cos6-linux-gnu-c++ -- works\n",
      "-- Detecting CXX compiler ABI info\n",
      "-- Detecting CXX compiler ABI info - done\n",
      "-- Detecting CXX compile features\n",
      "-- Detecting CXX compile features - done\n",
      "-- No build type specific - will use 'Release' as default\n",
      "-- Found PythonInterp: /media/matthias/HDD/matthias/Projects/pyhep20_tfpipeline/env/miniconda/envs/tf-environment/bin/python2.7 (found suitable version \"2.7.15\", minimum required is \"2.7\") \n",
      "-- Looking for TensorFlow...\n",
      "-- Tensorflow version: 1.6.0\n",
      "-- Tensorflow include path: /media/matthias/HDD/matthias/Projects/pyhep20_tfpipeline/env/miniconda/envs/tf-environment/lib/python2.7/site-packages/tensorflow/include\n",
      "-- Force ABI: GLIBCXX_USE_CXX11_ABI=0\n",
      "-- Tensorflow lib path: /media/matthias/HDD/matthias/Projects/pyhep20_tfpipeline/env/miniconda/envs/tf-environment/lib/python2.7/site-packages/tensorflow\n",
      "-- Found TensorFlow: /media/matthias/HDD/matthias/Projects/pyhep20_tfpipeline/env/miniconda/envs/tf-environment/lib/python2.7/site-packages/tensorflow/include (Required is at least version \"1.6\") \n",
      "-- Looking for Root...\n",
      "-- Looking for Root... - found /media/matthias/HDD/matthias/Projects/pyhep20_tfpipeline/env/miniconda/envs/tf-environment/bin/root\n",
      "-- Looking for Root... - version 6.18/00 \n",
      "-- root dict generator: /media/matthias/HDD/matthias/Projects/pyhep20_tfpipeline/env/miniconda/envs/tf-environment/bin/rootcling\n",
      "-- Module name: rtf\n",
      "-- Install dir: \n",
      "-- ROOT definitions: -pthread -std=c++1z -m64 -I/media/matthias/HDD/matthias/Projects/pyhep20_tfpipeline/env/miniconda/envs/tf-environment/include\n",
      "-- TensorFlow definitions: -D_GLIBCXX_USE_CXX11_ABI=0\n",
      "-- Configuring done\n",
      "-- Generating done\n",
      "-- Build files have been written to: /media/matthias/HDD/matthias/Projects/pyhep20_tfpipeline/Ops/build\n",
      "Scanning dependencies of target RootReader\n",
      "[ 12%] Building CXX object CMakeFiles/RootReader.dir/RootReader.cc.o\n",
      "[ 25%] Linking CXX shared module libRootReader.so\n",
      "Copying file: /media/matthias/HDD/matthias/Projects/pyhep20_tfpipeline/Ops/__init__.py to: /media/matthias/HDD/matthias/Projects/pyhep20_tfpipeline/Ops/build/__init__.py\n",
      "Copying file: /media/matthias/HDD/matthias/Projects/pyhep20_tfpipeline/Ops/root_reader.py to: /media/matthias/HDD/matthias/Projects/pyhep20_tfpipeline/Ops/build/root_reader.py\n",
      "Copying file: /media/matthias/HDD/matthias/Projects/pyhep20_tfpipeline/Ops/resampler.py to: /media/matthias/HDD/matthias/Projects/pyhep20_tfpipeline/Ops/build/resampler.py\n",
      "Copying file: /media/matthias/HDD/matthias/Projects/pyhep20_tfpipeline/Ops/fake_background.py to: /media/matthias/HDD/matthias/Projects/pyhep20_tfpipeline/Ops/build/fake_background.py\n",
      "Copying file: /media/matthias/HDD/matthias/Projects/pyhep20_tfpipeline/Ops/classification_weights.py to: /media/matthias/HDD/matthias/Projects/pyhep20_tfpipeline/Ops/build/classification_weights.py\n",
      "[ 25%] Built target RootReader\n",
      "Scanning dependencies of target ClassificationWeights\n",
      "[ 37%] Building CXX object CMakeFiles/ClassificationWeights.dir/ClassificationWeights.cc.o\n",
      "[ 50%] Linking CXX shared module libClassificationWeights.so\n",
      "[ 50%] Built target ClassificationWeights\n",
      "Scanning dependencies of target FakeBackground\n",
      "[ 62%] Building CXX object CMakeFiles/FakeBackground.dir/FakeBackground.cc.o\n",
      "[ 75%] Linking CXX shared module libFakeBackground.so\n",
      "[ 75%] Built target FakeBackground\n",
      "Scanning dependencies of target Resampler\n",
      "[ 87%] Building CXX object CMakeFiles/Resampler.dir/Resampler.cc.o\n",
      "[100%] Linking CXX shared module libResampler.so\n",
      "[100%] Built target Resampler\n",
      "[ 25%] Built target RootReader\n",
      "[ 50%] Built target ClassificationWeights\n",
      "[ 75%] Built target FakeBackground\n",
      "[100%] Built target Resampler\n",
      "Install the project...\n",
      "-- Install configuration: \"Release\"\n",
      "-- Installing: /media/matthias/HDD/matthias/Projects/pyhep20_tfpipeline/Ops/build/release/rtf/libRootReader.so\n",
      "-- Set runtime path of \"/media/matthias/HDD/matthias/Projects/pyhep20_tfpipeline/Ops/build/release/rtf/libRootReader.so\" to \"\"\n",
      "-- Installing: /media/matthias/HDD/matthias/Projects/pyhep20_tfpipeline/Ops/build/release/rtf/libClassificationWeights.so\n",
      "-- Set runtime path of \"/media/matthias/HDD/matthias/Projects/pyhep20_tfpipeline/Ops/build/release/rtf/libClassificationWeights.so\" to \"\"\n",
      "-- Installing: /media/matthias/HDD/matthias/Projects/pyhep20_tfpipeline/Ops/build/release/rtf/libFakeBackground.so\n",
      "-- Set runtime path of \"/media/matthias/HDD/matthias/Projects/pyhep20_tfpipeline/Ops/build/release/rtf/libFakeBackground.so\" to \"\"\n",
      "-- Installing: /media/matthias/HDD/matthias/Projects/pyhep20_tfpipeline/Ops/build/release/rtf/libResampler.so\n",
      "-- Set runtime path of \"/media/matthias/HDD/matthias/Projects/pyhep20_tfpipeline/Ops/build/release/rtf/libResampler.so\" to \"\"\n",
      "-- Installing: /media/matthias/HDD/matthias/Projects/pyhep20_tfpipeline/Ops/build/release/rtf/__init__.py\n",
      "-- Installing: /media/matthias/HDD/matthias/Projects/pyhep20_tfpipeline/Ops/build/release/rtf/root_reader.py\n",
      "-- Installing: /media/matthias/HDD/matthias/Projects/pyhep20_tfpipeline/Ops/build/release/rtf/resampler.py\n",
      "-- Installing: /media/matthias/HDD/matthias/Projects/pyhep20_tfpipeline/Ops/build/release/rtf/fake_background.py\n",
      "-- Installing: /media/matthias/HDD/matthias/Projects/pyhep20_tfpipeline/Ops/build/release/rtf/classification_weights.py\n"
     ]
    }
   ],
   "source": [
    "%%bash\n",
    "mkdir Ops/build || rm -rf Ops/build/*\n",
    "cd Ops/build\n",
    "cmake -DCMAKE_INSTALL_PREFIX=$PWD/release ..\n",
    "make\n",
    "make install"
   ]
  },
  {
   "cell_type": "code",
   "execution_count": null,
   "metadata": {
    "slideshow": {
     "slide_type": "slide"
    }
   },
   "outputs": [],
   "source": [
    "import sys\n",
    "import os\n",
    "sys.path.append(os.path.join(os.getcwd(),'Ops','build','release'))"
   ]
  },
  {
   "cell_type": "code",
   "execution_count": null,
   "metadata": {
    "slideshow": {
     "slide_type": "fragment"
    }
   },
   "outputs": [],
   "source": [
    "import rtf\n",
    "rtf.root_reader"
   ]
  }
 ],
 "metadata": {
  "celltoolbar": "Slideshow",
  "kernelspec": {
   "display_name": "Python 2",
   "language": "python",
   "name": "python2"
  },
  "language_info": {
   "codemirror_mode": {
    "name": "ipython",
    "version": 2
   },
   "file_extension": ".py",
   "mimetype": "text/x-python",
   "name": "python",
   "nbconvert_exporter": "python",
   "pygments_lexer": "ipython2",
   "version": "2.7.15"
  },
  "livereveal": {
   "autolaunch": true,
   "scroll": true
  }
 },
 "nbformat": 4,
 "nbformat_minor": 2
}
